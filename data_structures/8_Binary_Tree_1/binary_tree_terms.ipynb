{
 "cells": [
  {
   "cell_type": "markdown",
   "metadata": {},
   "source": [
    "## Binary Tree\n",
    "\n",
    "### Terminology\n",
    "\n",
    "- **Root**: The top node in a tree.\n",
    "- **Parent**: A node that has one or more child nodes.\n",
    "- **Child**: A node that has a parent node.\n",
    "- **Leaf**: A node that has no children.\n",
    "- **Height**: The number of edges on the longest path between the root and a leaf.\n",
    "    - Height of an empty tree is -1.\n",
    "\n",
    "- **Complete Binary Tree**: A binary tree in which every level, except possibly the last, is completely filled, and all nodes are as far left as possible.\n",
    "- **Perfect Binary Tree**: A binary tree in which all interior nodes have two children and all leaves have the same depth.\n",
    "- **Balanced Binary Tree**: A binary tree in which the depth of the two subtrees of every node never differ by more than 1.\n",
    "\n",
    "\n",
    "\n",
    "\n",
    "\n",
    "### Properties\n",
    "\n",
    "- The maximum number of nodes at level $l$ of a binary tree is $2^l$.\n",
    "- The maximum number of nodes in a binary tree of height $h$ is $2^{h+1}-1$.\n",
    "- In a binary tree with $n$ nodes:\n",
    "    - minimum height (minimum depth) is $\\lceil \\log_2(n+1) \\rceil - 1$\n",
    "    - maximum height (maximum depth) is $n - 1$\n",
    "- For a complete binary tree with $n$ nodes:\n",
    "    - height (minimum depth) is $\\lfloor \\log_2(n) \\rfloor = log_2(n+1) - 1$\n",
    "    - number of leaf nodes is $\\lceil n/2 \\rceil$\n",
    "\n",
    "- For a complete binary tree with $l$ leaf nodes:\n",
    "    - number of nodes is $2l - 1$\n",
    "    - height (minimum depth) is $log_2(l)$"
   ]
  },
  {
   "cell_type": "markdown",
   "metadata": {},
   "source": []
  },
  {
   "cell_type": "markdown",
   "metadata": {},
   "source": []
  }
 ],
 "metadata": {
  "language_info": {
   "name": "python"
  }
 },
 "nbformat": 4,
 "nbformat_minor": 2
}
